{
 "cells": [
  {
   "cell_type": "code",
   "execution_count": null,
   "id": "936757fd-0da8-47a9-9023-18f2d0627cb2",
   "metadata": {},
   "outputs": [],
   "source": []
  }
 ],
 "metadata": {
  "kernelspec": {
   "display_name": "",
   "name": ""
  },
  "language_info": {
   "name": ""
  }
 },
 "nbformat": 4,
 "nbformat_minor": 5
}
